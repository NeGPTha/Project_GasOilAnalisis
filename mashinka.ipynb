{
 "cells": [
  {
   "cell_type": "code",
   "execution_count": 209,
   "id": "66d90c02",
   "metadata": {},
   "outputs": [],
   "source": [
    "import warnings\n",
    "import pandas as pd\n",
    "import numpy as np\n",
    "import matplotlib.pyplot as plt\n",
    "import seaborn as sns\n",
    "import re\n",
    "import datetime"
   ]
  },
  {
   "cell_type": "code",
   "execution_count": 210,
   "id": "28d73e01",
   "metadata": {},
   "outputs": [],
   "source": [
    "warnings.filterwarnings(\"ignore\")"
   ]
  },
  {
   "cell_type": "code",
   "execution_count": 211,
   "id": "26c2e53c",
   "metadata": {},
   "outputs": [],
   "source": [
    "# мы сохранили наш итоговый датафрейм в файл itog_dataset.csv в файле itog.ipnyb\n",
    "itog_dataset = pd.read_csv(r\"C:\\Users\\Мой ПК\\Dropbox\\Мой ПК (LAPTOP-TOID7NG7)\\Desktop\\2 курс\\AD\\проект\\itog_dataset.csv\", sep=',')"
   ]
  },
  {
   "cell_type": "markdown",
   "id": "7e687d81",
   "metadata": {},
   "source": [
    "Машинное обучение"
   ]
  },
  {
   "cell_type": "markdown",
   "id": "67343b0c",
   "metadata": {},
   "source": [
    "1. Первая попытка обучения\n",
    "Мы без каких-либо преобразований воспользовались \"топорным\" методом для загрузки в fit."
   ]
  },
  {
   "cell_type": "code",
   "execution_count": 212,
   "id": "6de4b8f1",
   "metadata": {},
   "outputs": [
    {
     "data": {
      "text/plain": [
       "(array([ 1.64358442e+02, -1.12468357e+02, -2.19876408e+02, -6.75005459e+02,\n",
       "         3.67998475e-05,  5.16070570e+02]),\n",
       " 22651.047543812765)"
      ]
     },
     "execution_count": 212,
     "metadata": {},
     "output_type": "execute_result"
    }
   ],
   "source": [
    "from sklearn.linear_model import LinearRegression\n",
    "from sklearn.model_selection import train_test_split\n",
    "\n",
    "model1 = LinearRegression()\n",
    "\n",
    "X = itog_dataset[['WTI', 'Brent', 'Природный газ', 'Usd_Rub', 'Количество заболевших COVID-19, чел.', 'Euro_Rub']]\n",
    "y = itog_dataset['Суммарная капитализация']\n",
    "\n",
    "# разделяем наши данные на тестовую и обучающуюся выборку\n",
    "X_train, X_test, y_train, y_test = train_test_split(X, y, test_size=0.2, random_state=42)\n",
    "\n",
    "model1.fit(X_train, y_train)\n",
    "model1.coef_, model1.intercept_"
   ]
  },
  {
   "cell_type": "markdown",
   "id": "e9466999",
   "metadata": {},
   "source": [
    "Получили следующую модель:\n",
    "'Суммарная капитализация' = 22651 + 164 * 'WTI' - 112 * 'Brent' - 219 * 'Природный газ' - 675 * 'Usd_Rub' + 0,000037 * 'Количество заболевших COVID-19, чел.' + 516 * 'Euro_Rub'"
   ]
  },
  {
   "cell_type": "code",
   "execution_count": 213,
   "id": "85152ae0",
   "metadata": {},
   "outputs": [
    {
     "name": "stdout",
     "output_type": "stream",
     "text": [
      "Test MAPE = 0.1270\n",
      "Train MAPE = 0.1183\n"
     ]
    }
   ],
   "source": [
    "from sklearn.linear_model import LinearRegression\n",
    "from sklearn.metrics import mean_absolute_percentage_error\n",
    "\n",
    "model = LinearRegression()\n",
    "model.fit(X_train, y_train)\n",
    "y_pred = model.predict(X_test)\n",
    "y_train_pred = model.predict(X_train)\n",
    "\n",
    "print(\"Test MAPE = %.4f\" % mean_absolute_percentage_error(y_test, y_pred))\n",
    "print(\"Train MAPE = %.4f\" % mean_absolute_percentage_error(y_train, y_train_pred))"
   ]
  },
  {
   "cell_type": "markdown",
   "id": "fd283ebf",
   "metadata": {},
   "source": [
    "а) уменьшаем МАРЕ с помощью полиномиальной регрессии. "
   ]
  },
  {
   "cell_type": "code",
   "execution_count": 214,
   "id": "7a1e41c6",
   "metadata": {},
   "outputs": [],
   "source": [
    "from sklearn.preprocessing import PolynomialFeatures\n",
    "\n",
    "polinom_transform = PolynomialFeatures(2, include_bias=False)\n",
    "\n",
    "X_train_poly = polinom_transform.fit_transform(X_train)\n",
    "X_test_poly = polinom_transform.transform(X_test)"
   ]
  },
  {
   "cell_type": "code",
   "execution_count": 215,
   "id": "aae48c04",
   "metadata": {},
   "outputs": [
    {
     "name": "stdout",
     "output_type": "stream",
     "text": [
      "Test MAPE = 0.0866\n",
      "Train MAPE = 0.0724\n"
     ]
    }
   ],
   "source": [
    "model = LinearRegression()\n",
    "\n",
    "model.fit(X_train_poly, y_train)\n",
    "y_pred = model.predict(X_test_poly)\n",
    "y_train_pred = model.predict(X_train_poly)\n",
    "\n",
    "print(\"Test MAPE = %.4f\" % mean_absolute_percentage_error(y_test, y_pred))\n",
    "print(\"Train MAPE = %.4f\" % mean_absolute_percentage_error(y_train, y_train_pred))"
   ]
  },
  {
   "cell_type": "markdown",
   "id": "000c4b35",
   "metadata": {},
   "source": [
    "Мы добились снижения ошибки."
   ]
  },
  {
   "cell_type": "markdown",
   "id": "8773da62",
   "metadata": {},
   "source": [
    "Используем Ridge-регрессию"
   ]
  },
  {
   "cell_type": "code",
   "execution_count": 216,
   "id": "f4dd979c",
   "metadata": {},
   "outputs": [
    {
     "name": "stdout",
     "output_type": "stream",
     "text": [
      "Test MAPE = 0.0863\n",
      "Train MAPE = 0.0724\n"
     ]
    }
   ],
   "source": [
    "from sklearn.linear_model import Ridge\n",
    "\n",
    "model = Ridge(alpha=200)\n",
    "\n",
    "model.fit(X_train_poly, y_train)\n",
    "y_pred = model.predict(X_test_poly)\n",
    "y_train_pred = model.predict(X_train_poly)\n",
    "\n",
    "print(\"Test MAPE = %.4f\" % mean_absolute_percentage_error(y_test, y_pred))\n",
    "print(\"Train MAPE = %.4f\" % mean_absolute_percentage_error(y_train, y_train_pred))"
   ]
  },
  {
   "cell_type": "markdown",
   "id": "92f0574f",
   "metadata": {},
   "source": [
    "Ridge-регрессия не дала ощутимого результата в плане понижения ошибки MAPE."
   ]
  },
  {
   "cell_type": "code",
   "execution_count": 217,
   "id": "93d3a691",
   "metadata": {},
   "outputs": [
    {
     "name": "stdout",
     "output_type": "stream",
     "text": [
      "MSE: 5515330.743190483\n",
      "RMSE: 2348.4741308327166\n",
      "R-squared: 0.5941711974898123\n",
      "MAPE: 0.08625688791739192\n"
     ]
    }
   ],
   "source": [
    "# выводим основные ошибки и свойства полученной модели линейной регрессии\n",
    "from sklearn.metrics import mean_squared_error, r2_score\n",
    "\n",
    "mse = mean_squared_error(y_test, y_pred)\n",
    "print(\"MSE:\", mse)\n",
    "\n",
    "rmse = mean_squared_error(y_test, y_pred, squared=False)\n",
    "print(\"RMSE:\", rmse)\n",
    "\n",
    "r2 = r2_score(y_test, y_pred)\n",
    "print(\"R-squared:\", r2)\n",
    "\n",
    "mape = mean_absolute_percentage_error(y_test, y_pred)\n",
    "print(\"MAPE:\", mape)\n",
    "\n"
   ]
  },
  {
   "cell_type": "markdown",
   "id": "108f4224",
   "metadata": {},
   "source": [
    "Исходя из этих данных можно сделать вывод, что наша модель не является достаточно точной для получения высококачественных прогнозов и имеет среднюю точность, так как значение MSE довольно высокое. \n",
    "\n",
    "Величина RMSE говорит о том, что ошибка прогноза составляет в среднем около 2348 млрд.рублей.\n",
    "\n",
    "При этом, значение коэффициента детерминации (R-squared) находится на среднем уровне, что может говорить о том, что модель может объяснить примерно 59% изменений в зависимой переменной.\n",
    "\n",
    "Что касается относительной ошибки (MAPE), она также не является слишком большой, показывает, что ошибки прогнозирования составляют в среднем около 8.6%.\n",
    "\n",
    "Поэтому, может быть, стоит усовершенствовать модель для снижения значений MSE и RMSE.\n"
   ]
  },
  {
   "cell_type": "markdown",
   "id": "22a0f6c7",
   "metadata": {},
   "source": [
    "б) Теперь попробуем вместо полиномиальной регрессии нормализовать данные"
   ]
  },
  {
   "cell_type": "code",
   "execution_count": 218,
   "id": "b66e9cb4",
   "metadata": {},
   "outputs": [],
   "source": [
    "from sklearn import preprocessing\n",
    "\n",
    "X_train_poly = preprocessing.normalize(X_train)\n",
    "X_test_poly = preprocessing.normalize(X_test)"
   ]
  },
  {
   "cell_type": "code",
   "execution_count": 219,
   "id": "c774e1de",
   "metadata": {},
   "outputs": [
    {
     "name": "stdout",
     "output_type": "stream",
     "text": [
      "Test MAPE = 0.1610\n",
      "Train MAPE = 0.1461\n"
     ]
    }
   ],
   "source": [
    "model = LinearRegression()\n",
    "\n",
    "model.fit(X_train_poly, y_train)\n",
    "y_pred = model.predict(X_test_poly)\n",
    "y_train_pred = model.predict(X_train_poly)\n",
    "\n",
    "print(\"Test MAPE = %.4f\" % mean_absolute_percentage_error(y_test, y_pred))\n",
    "print(\"Train MAPE = %.4f\" % mean_absolute_percentage_error(y_train, y_train_pred))"
   ]
  },
  {
   "cell_type": "markdown",
   "id": "8765954b",
   "metadata": {},
   "source": [
    "не исполльзуем ridge регрессию и полиноминальную  регрессию, так как они увеличивают МАРЕ (test MAPE и train MAPE увеличвается приблизительно на 0.02."
   ]
  },
  {
   "cell_type": "code",
   "execution_count": 220,
   "id": "8b525e6c",
   "metadata": {},
   "outputs": [
    {
     "name": "stdout",
     "output_type": "stream",
     "text": [
      "MSE: 13277818.113773178\n",
      "RMSE: 3643.8740529514985\n",
      "R-squared: 0.02299222368239673\n",
      "MAPE: 0.16103441422615922\n"
     ]
    }
   ],
   "source": [
    "mse = mean_squared_error(y_test, y_pred)\n",
    "print(\"MSE:\", mse)\n",
    "\n",
    "rmse = mean_squared_error(y_test, y_pred, squared=False)\n",
    "print(\"RMSE:\", rmse)\n",
    "\n",
    "r2 = r2_score(y_test, y_pred)\n",
    "print(\"R-squared:\", r2)\n",
    "\n",
    "mape = mean_absolute_percentage_error(y_test, y_pred)\n",
    "print(\"MAPE:\", mape)"
   ]
  },
  {
   "cell_type": "markdown",
   "id": "aa9940e6",
   "metadata": {},
   "source": [
    "по сравнению с предыдущими значениями наши показатели ухудшились, вследствие чего можно сделать выывод о том, что лучше использовать полиноминальную регрессию"
   ]
  },
  {
   "cell_type": "markdown",
   "id": "bf70fd09",
   "metadata": {},
   "source": [
    "2) Попробуем новый тип линейной регрессии: с изначально нормализованными данными по Х"
   ]
  },
  {
   "cell_type": "code",
   "execution_count": 221,
   "id": "c1f455dd",
   "metadata": {},
   "outputs": [
    {
     "data": {
      "text/plain": [
       "(array([ 26254.61759157, -11724.82621321,  -1795.29086829, -36329.46878878,\n",
       "          2773.44196415,  31234.34556344]),\n",
       " 6453.816469490941)"
      ]
     },
     "execution_count": 221,
     "metadata": {},
     "output_type": "execute_result"
    }
   ],
   "source": [
    "dfash = itog_dataset.copy()\n",
    "\n",
    "min_value = dfash['WTI'].min()\n",
    "max_value = dfash['WTI'].max()\n",
    "dfash['WTI'] = (dfash['WTI'] - min_value) / (max_value - min_value)\n",
    "\n",
    "min_value = dfash['Brent'].min()\n",
    "max_value = dfash['Brent'].max()\n",
    "dfash['Brent'] = (dfash['Brent'] - min_value) / (max_value - min_value)\n",
    "\n",
    "min_value = dfash['Природный газ'].min()\n",
    "max_value = dfash['Природный газ'].max()\n",
    "dfash['Природный газ'] = (dfash['Природный газ'] - min_value) / (max_value - min_value)\n",
    "\n",
    "min_value = dfash['Usd_Rub'].min()\n",
    "max_value = dfash['Usd_Rub'].max()\n",
    "dfash['Usd_Rub'] = (dfash['Usd_Rub'] - min_value) / (max_value - min_value)\n",
    "\n",
    "min_value = dfash['Количество заболевших COVID-19, чел.'].min()\n",
    "max_value = dfash['Количество заболевших COVID-19, чел.'].max()\n",
    "dfash['Количество заболевших COVID-19, чел.'] = (dfash['Количество заболевших COVID-19, чел.'] - min_value) / (max_value - min_value)\n",
    "\n",
    "min_value = dfash['Euro_Rub'].min()\n",
    "max_value = dfash['Euro_Rub'].max()\n",
    "dfash['Euro_Rub'] = (dfash['Euro_Rub'] - min_value) / (max_value - min_value)\n",
    "\n",
    "\n",
    "X = dfash[['WTI', 'Brent', 'Природный газ', 'Usd_Rub', 'Количество заболевших COVID-19, чел.', 'Euro_Rub']]\n",
    "y = dfash['Суммарная капитализация']\n",
    "\n",
    "X_train, X_test, y_train, y_test = train_test_split(X, y, test_size=0.2, random_state=42)\n",
    "\n",
    "model1.fit(X_train, y_train)\n",
    "model1.coef_, model1.intercept_"
   ]
  },
  {
   "cell_type": "markdown",
   "id": "7f65ad72",
   "metadata": {},
   "source": [
    "'Суммарная капитализация' = 6453 + 26254 * 'WTI' - 11724 * 'Brent' - 1795 * 'Природный газ' - 36329 * 'Usd_Rub' + 2773 * 'Количество заболевших COVID-19, чел.' + 31234 * 'Euro_Rub'"
   ]
  },
  {
   "cell_type": "code",
   "execution_count": 222,
   "id": "111cb4e8",
   "metadata": {},
   "outputs": [
    {
     "name": "stdout",
     "output_type": "stream",
     "text": [
      "Test MAPE = 0.1270\n",
      "Train MAPE = 0.1183\n"
     ]
    }
   ],
   "source": [
    "from sklearn.linear_model import LinearRegression\n",
    "from sklearn.metrics import mean_absolute_percentage_error\n",
    "\n",
    "model = LinearRegression()\n",
    "model.fit(X_train, y_train)\n",
    "y_pred = model.predict(X_test)\n",
    "y_train_pred = model.predict(X_train)\n",
    "\n",
    "print(\"Test MAPE = %.4f\" % mean_absolute_percentage_error(y_test, y_pred))\n",
    "print(\"Train MAPE = %.4f\" % mean_absolute_percentage_error(y_train, y_train_pred))"
   ]
  },
  {
   "cell_type": "markdown",
   "id": "bf425cb6",
   "metadata": {},
   "source": [
    "уменьшаем МАРЕ с помощью полиномиальной регрессии"
   ]
  },
  {
   "cell_type": "code",
   "execution_count": 223,
   "id": "716e84c8",
   "metadata": {},
   "outputs": [],
   "source": [
    "from sklearn.preprocessing import PolynomialFeatures\n",
    "\n",
    "polinom_transform = PolynomialFeatures(2, include_bias=False)\n",
    "\n",
    "X_train_poly = polinom_transform.fit_transform(X_train)\n",
    "X_test_poly = polinom_transform.transform(X_test)"
   ]
  },
  {
   "cell_type": "code",
   "execution_count": 224,
   "id": "ab6fa22a",
   "metadata": {},
   "outputs": [
    {
     "name": "stdout",
     "output_type": "stream",
     "text": [
      "Test MAPE = 0.0777\n",
      "Train MAPE = 0.0667\n"
     ]
    }
   ],
   "source": [
    "model = LinearRegression()\n",
    "\n",
    "model.fit(X_train_poly, y_train)\n",
    "y_pred = model.predict(X_test_poly)\n",
    "y_train_pred = model.predict(X_train_poly)\n",
    "\n",
    "print(\"Test MAPE = %.4f\" % mean_absolute_percentage_error(y_test, y_pred))\n",
    "print(\"Train MAPE = %.4f\" % mean_absolute_percentage_error(y_train, y_train_pred))"
   ]
  },
  {
   "cell_type": "code",
   "execution_count": 225,
   "id": "9d378c1f",
   "metadata": {},
   "outputs": [
    {
     "name": "stdout",
     "output_type": "stream",
     "text": [
      "MSE: 4163379.8029844714\n",
      "RMSE: 2040.4361795911361\n",
      "R-squared: 0.6936503868011212\n",
      "MAPE: 0.07769254216900817\n"
     ]
    }
   ],
   "source": [
    "\n",
    "mse = mean_squared_error(y_test, y_pred)\n",
    "print(\"MSE:\", mse)\n",
    "\n",
    "rmse = mean_squared_error(y_test, y_pred, squared=False)\n",
    "print(\"RMSE:\", rmse)\n",
    "\n",
    "r2 = r2_score(y_test, y_pred)\n",
    "print(\"R-squared:\", r2)\n",
    "\n",
    "mape = mean_absolute_percentage_error(y_test, y_pred)\n",
    "print(\"MAPE:\", mape)"
   ]
  },
  {
   "cell_type": "markdown",
   "id": "9f91a0fd",
   "metadata": {},
   "source": [
    "По сравнению с предыдущими значениями:\n",
    "1. MSE упало\n",
    "2. RMSE упало\n",
    "3. R квадрат возрасло\n",
    "4. MAPE упало\n",
    "\n",
    "Это позволяет нам сделать вывод о том, что данная линейная модель лучше и более точно предсказывает значение капитализации, по сравнению с предыдущими"
   ]
  },
  {
   "cell_type": "markdown",
   "id": "ee730285",
   "metadata": {},
   "source": [
    "3) новые параметры в модели (корни и натуральные логарифмы + нормализация)"
   ]
  },
  {
   "cell_type": "markdown",
   "id": "dfd975c3",
   "metadata": {},
   "source": [
    "берем квадратный корень от доллара и евро (их коэффициент корреляции с целевой перемнной одинаковы) и корень третьей степени от нефти (2 вида) и природного газа, так как доллар и евро схожи по характеру друг с другом (один берется с минусом, а другой - с плюсом), а природный ресурсы взаимосвязаны между собой. \n",
    "\n",
    "Почему именно мы взяли квадратный и кубический корни - нам так захотелось, и мы решили проверить, насколько качество модели изменится (если улучшится, то мы примем такую модель)."
   ]
  },
  {
   "cell_type": "code",
   "execution_count": 226,
   "id": "e470cd9a",
   "metadata": {},
   "outputs": [],
   "source": [
    "df3 = itog_dataset.copy()\n",
    "\n",
    "df3['WTI'] = df3['WTI'] ** (1/3)\n",
    "df3['Brent'] = df3['Brent'] ** (1/3)\n",
    "df3['Природный газ'] = df3['Природный газ'] ** (1/3)\n",
    "df3['Usd_Rub'] = df3['Usd_Rub'] ** (1/2)\n",
    "df3['Euro_Rub'] = df3['Euro_Rub'] ** (1/2)"
   ]
  },
  {
   "cell_type": "code",
   "execution_count": 227,
   "id": "b4728a41",
   "metadata": {},
   "outputs": [
    {
     "data": {
      "text/plain": [
       "Дата                                    0\n",
       "Суммарная капитализация                 0\n",
       "WTI                                     1\n",
       "Brent                                   0\n",
       "Природный газ                           0\n",
       "Usd_Rub                                 0\n",
       "Количество заболевших COVID-19, чел.    0\n",
       "Euro_Rub                                0\n",
       "dtype: int64"
      ]
     },
     "metadata": {},
     "output_type": "display_data"
    }
   ],
   "source": [
    "display(df3.isna().sum())"
   ]
  },
  {
   "cell_type": "markdown",
   "id": "90d20b18",
   "metadata": {},
   "source": [
    "1 пропуск: причина - отрицательные котировки на нефть! \n",
    "\n",
    "Поэтому сделаем нан равным 0"
   ]
  },
  {
   "cell_type": "code",
   "execution_count": 228,
   "id": "d2107ba0",
   "metadata": {},
   "outputs": [],
   "source": [
    "df3.fillna(0, inplace=True)"
   ]
  },
  {
   "cell_type": "code",
   "execution_count": 229,
   "id": "a6c1d822",
   "metadata": {},
   "outputs": [
    {
     "data": {
      "text/html": [
       "<div>\n",
       "<style scoped>\n",
       "    .dataframe tbody tr th:only-of-type {\n",
       "        vertical-align: middle;\n",
       "    }\n",
       "\n",
       "    .dataframe tbody tr th {\n",
       "        vertical-align: top;\n",
       "    }\n",
       "\n",
       "    .dataframe thead th {\n",
       "        text-align: right;\n",
       "    }\n",
       "</style>\n",
       "<table border=\"1\" class=\"dataframe\">\n",
       "  <thead>\n",
       "    <tr style=\"text-align: right;\">\n",
       "      <th></th>\n",
       "      <th>Дата</th>\n",
       "      <th>Суммарная капитализация</th>\n",
       "      <th>WTI</th>\n",
       "      <th>Brent</th>\n",
       "      <th>Природный газ</th>\n",
       "      <th>Usd_Rub</th>\n",
       "      <th>Количество заболевших COVID-19, чел.</th>\n",
       "      <th>Euro_Rub</th>\n",
       "    </tr>\n",
       "  </thead>\n",
       "  <tbody>\n",
       "    <tr>\n",
       "      <th>0</th>\n",
       "      <td>2023-05-12</td>\n",
       "      <td>16396.946767</td>\n",
       "      <td>4.122070</td>\n",
       "      <td>4.201927</td>\n",
       "      <td>1.315399</td>\n",
       "      <td>8.827231</td>\n",
       "      <td>20718996.0</td>\n",
       "      <td>9.104268</td>\n",
       "    </tr>\n",
       "    <tr>\n",
       "      <th>1</th>\n",
       "      <td>2023-05-11</td>\n",
       "      <td>16294.065261</td>\n",
       "      <td>4.138289</td>\n",
       "      <td>4.216788</td>\n",
       "      <td>1.298618</td>\n",
       "      <td>8.769265</td>\n",
       "      <td>20725841.0</td>\n",
       "      <td>9.173320</td>\n",
       "    </tr>\n",
       "    <tr>\n",
       "      <th>2</th>\n",
       "      <td>2023-05-10</td>\n",
       "      <td>16284.351224</td>\n",
       "      <td>4.170925</td>\n",
       "      <td>4.243427</td>\n",
       "      <td>1.298815</td>\n",
       "      <td>8.721095</td>\n",
       "      <td>20729841.0</td>\n",
       "      <td>9.214516</td>\n",
       "    </tr>\n",
       "    <tr>\n",
       "      <th>3</th>\n",
       "      <td>2023-05-08</td>\n",
       "      <td>15763.969291</td>\n",
       "      <td>4.182390</td>\n",
       "      <td>4.254505</td>\n",
       "      <td>1.308037</td>\n",
       "      <td>8.842370</td>\n",
       "      <td>20712436.0</td>\n",
       "      <td>9.214516</td>\n",
       "    </tr>\n",
       "    <tr>\n",
       "      <th>4</th>\n",
       "      <td>2023-05-05</td>\n",
       "      <td>15753.358791</td>\n",
       "      <td>4.147417</td>\n",
       "      <td>4.222779</td>\n",
       "      <td>1.288056</td>\n",
       "      <td>8.796590</td>\n",
       "      <td>20690046.0</td>\n",
       "      <td>9.327304</td>\n",
       "    </tr>\n",
       "    <tr>\n",
       "      <th>...</th>\n",
       "      <td>...</td>\n",
       "      <td>...</td>\n",
       "      <td>...</td>\n",
       "      <td>...</td>\n",
       "      <td>...</td>\n",
       "      <td>...</td>\n",
       "      <td>...</td>\n",
       "      <td>...</td>\n",
       "    </tr>\n",
       "    <tr>\n",
       "      <th>1097</th>\n",
       "      <td>2018-12-07</td>\n",
       "      <td>16864.193290</td>\n",
       "      <td>3.747050</td>\n",
       "      <td>3.950857</td>\n",
       "      <td>1.649495</td>\n",
       "      <td>8.148656</td>\n",
       "      <td>0.0</td>\n",
       "      <td>8.695234</td>\n",
       "    </tr>\n",
       "    <tr>\n",
       "      <th>1098</th>\n",
       "      <td>2018-12-06</td>\n",
       "      <td>16668.812360</td>\n",
       "      <td>3.720269</td>\n",
       "      <td>3.916172</td>\n",
       "      <td>1.629530</td>\n",
       "      <td>8.177659</td>\n",
       "      <td>0.0</td>\n",
       "      <td>8.700868</td>\n",
       "    </tr>\n",
       "    <tr>\n",
       "      <th>1099</th>\n",
       "      <td>2018-12-05</td>\n",
       "      <td>16954.240210</td>\n",
       "      <td>3.753685</td>\n",
       "      <td>3.948507</td>\n",
       "      <td>1.647164</td>\n",
       "      <td>8.158854</td>\n",
       "      <td>0.0</td>\n",
       "      <td>8.698057</td>\n",
       "    </tr>\n",
       "    <tr>\n",
       "      <th>1100</th>\n",
       "      <td>2018-12-04</td>\n",
       "      <td>16881.495090</td>\n",
       "      <td>3.762183</td>\n",
       "      <td>3.959593</td>\n",
       "      <td>1.645688</td>\n",
       "      <td>8.175579</td>\n",
       "      <td>0.0</td>\n",
       "      <td>8.682592</td>\n",
       "    </tr>\n",
       "    <tr>\n",
       "      <th>1101</th>\n",
       "      <td>2018-12-03</td>\n",
       "      <td>16823.664980</td>\n",
       "      <td>3.755104</td>\n",
       "      <td>3.951284</td>\n",
       "      <td>1.631035</td>\n",
       "      <td>8.155336</td>\n",
       "      <td>0.0</td>\n",
       "      <td>8.703356</td>\n",
       "    </tr>\n",
       "  </tbody>\n",
       "</table>\n",
       "<p>1102 rows × 8 columns</p>\n",
       "</div>"
      ],
      "text/plain": [
       "            Дата  Суммарная капитализация       WTI     Brent  Природный газ  \\\n",
       "0     2023-05-12             16396.946767  4.122070  4.201927       1.315399   \n",
       "1     2023-05-11             16294.065261  4.138289  4.216788       1.298618   \n",
       "2     2023-05-10             16284.351224  4.170925  4.243427       1.298815   \n",
       "3     2023-05-08             15763.969291  4.182390  4.254505       1.308037   \n",
       "4     2023-05-05             15753.358791  4.147417  4.222779       1.288056   \n",
       "...          ...                      ...       ...       ...            ...   \n",
       "1097  2018-12-07             16864.193290  3.747050  3.950857       1.649495   \n",
       "1098  2018-12-06             16668.812360  3.720269  3.916172       1.629530   \n",
       "1099  2018-12-05             16954.240210  3.753685  3.948507       1.647164   \n",
       "1100  2018-12-04             16881.495090  3.762183  3.959593       1.645688   \n",
       "1101  2018-12-03             16823.664980  3.755104  3.951284       1.631035   \n",
       "\n",
       "       Usd_Rub  Количество заболевших COVID-19, чел.  Euro_Rub  \n",
       "0     8.827231                            20718996.0  9.104268  \n",
       "1     8.769265                            20725841.0  9.173320  \n",
       "2     8.721095                            20729841.0  9.214516  \n",
       "3     8.842370                            20712436.0  9.214516  \n",
       "4     8.796590                            20690046.0  9.327304  \n",
       "...        ...                                   ...       ...  \n",
       "1097  8.148656                                   0.0  8.695234  \n",
       "1098  8.177659                                   0.0  8.700868  \n",
       "1099  8.158854                                   0.0  8.698057  \n",
       "1100  8.175579                                   0.0  8.682592  \n",
       "1101  8.155336                                   0.0  8.703356  \n",
       "\n",
       "[1102 rows x 8 columns]"
      ]
     },
     "metadata": {},
     "output_type": "display_data"
    }
   ],
   "source": [
    "display(df3)"
   ]
  },
  {
   "cell_type": "markdown",
   "id": "4c7e8001",
   "metadata": {},
   "source": [
    "Делаем нормализацию"
   ]
  },
  {
   "cell_type": "code",
   "execution_count": 230,
   "id": "cfce1283",
   "metadata": {},
   "outputs": [],
   "source": [
    "min_value = df3['WTI'].min()\n",
    "max_value = df3['WTI'].max()\n",
    "df3['WTI'] = (df3['WTI'] - min_value) / (max_value - min_value)\n",
    "\n",
    "min_value = df3['Brent'].min()\n",
    "max_value = df3['Brent'].max()\n",
    "df3['Brent'] = (df3['Brent'] - min_value) / (max_value - min_value)\n",
    "\n",
    "min_value = df3['Природный газ'].min()\n",
    "max_value = df3['Природный газ'].max()\n",
    "df3['Природный газ'] = (df3['Природный газ'] - min_value) / (max_value - min_value)\n",
    "\n",
    "min_value = df3['Usd_Rub'].min()\n",
    "max_value = df3['Usd_Rub'].max()\n",
    "df3['Usd_Rub'] = (df3['Usd_Rub'] - min_value) / (max_value - min_value)\n",
    "\n",
    "min_value = df3['Количество заболевших COVID-19, чел.'].min()\n",
    "max_value = df3['Количество заболевших COVID-19, чел.'].max()\n",
    "df3['Количество заболевших COVID-19, чел.'] = (df3['Количество заболевших COVID-19, чел.'] - min_value) / (max_value - min_value)\n",
    "\n",
    "min_value = df3['Euro_Rub'].min()\n",
    "max_value = df3['Euro_Rub'].max()\n",
    "df3['Euro_Rub'] = (df3['Euro_Rub'] - min_value) / (max_value - min_value)"
   ]
  },
  {
   "cell_type": "code",
   "execution_count": 231,
   "id": "86860de4",
   "metadata": {},
   "outputs": [
    {
     "data": {
      "text/html": [
       "<div>\n",
       "<style scoped>\n",
       "    .dataframe tbody tr th:only-of-type {\n",
       "        vertical-align: middle;\n",
       "    }\n",
       "\n",
       "    .dataframe tbody tr th {\n",
       "        vertical-align: top;\n",
       "    }\n",
       "\n",
       "    .dataframe thead th {\n",
       "        text-align: right;\n",
       "    }\n",
       "</style>\n",
       "<table border=\"1\" class=\"dataframe\">\n",
       "  <thead>\n",
       "    <tr style=\"text-align: right;\">\n",
       "      <th></th>\n",
       "      <th>Дата</th>\n",
       "      <th>Суммарная капитализация</th>\n",
       "      <th>WTI</th>\n",
       "      <th>Brent</th>\n",
       "      <th>Природный газ</th>\n",
       "      <th>Usd_Rub</th>\n",
       "      <th>Количество заболевших COVID-19, чел.</th>\n",
       "      <th>Euro_Rub</th>\n",
       "    </tr>\n",
       "  </thead>\n",
       "  <tbody>\n",
       "    <tr>\n",
       "      <th>0</th>\n",
       "      <td>2023-05-12</td>\n",
       "      <td>16396.946767</td>\n",
       "      <td>0.830867</td>\n",
       "      <td>0.660867</td>\n",
       "      <td>0.177292</td>\n",
       "      <td>0.535861</td>\n",
       "      <td>0.274913</td>\n",
       "      <td>0.544969</td>\n",
       "    </tr>\n",
       "    <tr>\n",
       "      <th>1</th>\n",
       "      <td>2023-05-11</td>\n",
       "      <td>16294.065261</td>\n",
       "      <td>0.834136</td>\n",
       "      <td>0.667336</td>\n",
       "      <td>0.160318</td>\n",
       "      <td>0.517086</td>\n",
       "      <td>0.275004</td>\n",
       "      <td>0.565396</td>\n",
       "    </tr>\n",
       "    <tr>\n",
       "      <th>2</th>\n",
       "      <td>2023-05-10</td>\n",
       "      <td>16284.351224</td>\n",
       "      <td>0.840715</td>\n",
       "      <td>0.678932</td>\n",
       "      <td>0.160518</td>\n",
       "      <td>0.501483</td>\n",
       "      <td>0.275057</td>\n",
       "      <td>0.577583</td>\n",
       "    </tr>\n",
       "    <tr>\n",
       "      <th>3</th>\n",
       "      <td>2023-05-08</td>\n",
       "      <td>15763.969291</td>\n",
       "      <td>0.843026</td>\n",
       "      <td>0.683755</td>\n",
       "      <td>0.169846</td>\n",
       "      <td>0.540765</td>\n",
       "      <td>0.274826</td>\n",
       "      <td>0.577583</td>\n",
       "    </tr>\n",
       "    <tr>\n",
       "      <th>4</th>\n",
       "      <td>2023-05-05</td>\n",
       "      <td>15753.358791</td>\n",
       "      <td>0.835976</td>\n",
       "      <td>0.669944</td>\n",
       "      <td>0.149636</td>\n",
       "      <td>0.525937</td>\n",
       "      <td>0.274529</td>\n",
       "      <td>0.610949</td>\n",
       "    </tr>\n",
       "    <tr>\n",
       "      <th>...</th>\n",
       "      <td>...</td>\n",
       "      <td>...</td>\n",
       "      <td>...</td>\n",
       "      <td>...</td>\n",
       "      <td>...</td>\n",
       "      <td>...</td>\n",
       "      <td>...</td>\n",
       "      <td>...</td>\n",
       "    </tr>\n",
       "    <tr>\n",
       "      <th>1097</th>\n",
       "      <td>2018-12-07</td>\n",
       "      <td>16864.193290</td>\n",
       "      <td>0.755276</td>\n",
       "      <td>0.551575</td>\n",
       "      <td>0.515219</td>\n",
       "      <td>0.316066</td>\n",
       "      <td>0.000000</td>\n",
       "      <td>0.423965</td>\n",
       "    </tr>\n",
       "    <tr>\n",
       "      <th>1098</th>\n",
       "      <td>2018-12-06</td>\n",
       "      <td>16668.812360</td>\n",
       "      <td>0.749878</td>\n",
       "      <td>0.536476</td>\n",
       "      <td>0.495025</td>\n",
       "      <td>0.325460</td>\n",
       "      <td>0.000000</td>\n",
       "      <td>0.425632</td>\n",
       "    </tr>\n",
       "    <tr>\n",
       "      <th>1099</th>\n",
       "      <td>2018-12-05</td>\n",
       "      <td>16954.240210</td>\n",
       "      <td>0.756614</td>\n",
       "      <td>0.550551</td>\n",
       "      <td>0.512861</td>\n",
       "      <td>0.319369</td>\n",
       "      <td>0.000000</td>\n",
       "      <td>0.424800</td>\n",
       "    </tr>\n",
       "    <tr>\n",
       "      <th>1100</th>\n",
       "      <td>2018-12-04</td>\n",
       "      <td>16881.495090</td>\n",
       "      <td>0.758326</td>\n",
       "      <td>0.555378</td>\n",
       "      <td>0.511369</td>\n",
       "      <td>0.324787</td>\n",
       "      <td>0.000000</td>\n",
       "      <td>0.420225</td>\n",
       "    </tr>\n",
       "    <tr>\n",
       "      <th>1101</th>\n",
       "      <td>2018-12-03</td>\n",
       "      <td>16823.664980</td>\n",
       "      <td>0.756900</td>\n",
       "      <td>0.551761</td>\n",
       "      <td>0.496547</td>\n",
       "      <td>0.318230</td>\n",
       "      <td>0.000000</td>\n",
       "      <td>0.426368</td>\n",
       "    </tr>\n",
       "  </tbody>\n",
       "</table>\n",
       "<p>1102 rows × 8 columns</p>\n",
       "</div>"
      ],
      "text/plain": [
       "            Дата  Суммарная капитализация       WTI     Brent  Природный газ  \\\n",
       "0     2023-05-12             16396.946767  0.830867  0.660867       0.177292   \n",
       "1     2023-05-11             16294.065261  0.834136  0.667336       0.160318   \n",
       "2     2023-05-10             16284.351224  0.840715  0.678932       0.160518   \n",
       "3     2023-05-08             15763.969291  0.843026  0.683755       0.169846   \n",
       "4     2023-05-05             15753.358791  0.835976  0.669944       0.149636   \n",
       "...          ...                      ...       ...       ...            ...   \n",
       "1097  2018-12-07             16864.193290  0.755276  0.551575       0.515219   \n",
       "1098  2018-12-06             16668.812360  0.749878  0.536476       0.495025   \n",
       "1099  2018-12-05             16954.240210  0.756614  0.550551       0.512861   \n",
       "1100  2018-12-04             16881.495090  0.758326  0.555378       0.511369   \n",
       "1101  2018-12-03             16823.664980  0.756900  0.551761       0.496547   \n",
       "\n",
       "       Usd_Rub  Количество заболевших COVID-19, чел.  Euro_Rub  \n",
       "0     0.535861                              0.274913  0.544969  \n",
       "1     0.517086                              0.275004  0.565396  \n",
       "2     0.501483                              0.275057  0.577583  \n",
       "3     0.540765                              0.274826  0.577583  \n",
       "4     0.525937                              0.274529  0.610949  \n",
       "...        ...                                   ...       ...  \n",
       "1097  0.316066                              0.000000  0.423965  \n",
       "1098  0.325460                              0.000000  0.425632  \n",
       "1099  0.319369                              0.000000  0.424800  \n",
       "1100  0.324787                              0.000000  0.420225  \n",
       "1101  0.318230                              0.000000  0.426368  \n",
       "\n",
       "[1102 rows x 8 columns]"
      ]
     },
     "metadata": {},
     "output_type": "display_data"
    }
   ],
   "source": [
    "display(df3)"
   ]
  },
  {
   "cell_type": "code",
   "execution_count": 232,
   "id": "7864e563",
   "metadata": {},
   "outputs": [
    {
     "data": {
      "text/plain": [
       "Дата                                    0\n",
       "Суммарная капитализация                 0\n",
       "WTI                                     0\n",
       "Brent                                   0\n",
       "Природный газ                           0\n",
       "Usd_Rub                                 0\n",
       "Количество заболевших COVID-19, чел.    0\n",
       "Euro_Rub                                0\n",
       "dtype: int64"
      ]
     },
     "execution_count": 232,
     "metadata": {},
     "output_type": "execute_result"
    }
   ],
   "source": [
    "df3.isna().sum()"
   ]
  },
  {
   "cell_type": "code",
   "execution_count": 233,
   "id": "65f421c3",
   "metadata": {},
   "outputs": [
    {
     "data": {
      "text/plain": [
       "(array([  6686.2356258 ,   2284.47696322,    -49.07306427, -34774.59549927,\n",
       "          2389.80189334,  32603.38021965]),\n",
       " 9427.315722990774)"
      ]
     },
     "execution_count": 233,
     "metadata": {},
     "output_type": "execute_result"
    }
   ],
   "source": [
    "X = df3[['WTI', 'Brent', 'Природный газ', 'Usd_Rub', 'Количество заболевших COVID-19, чел.', 'Euro_Rub']]\n",
    "y = df3['Суммарная капитализация']\n",
    "\n",
    "X_train, X_test, y_train, y_test = train_test_split(X, y, test_size=0.2, random_state=42)\n",
    "\n",
    "model1.fit(X_train, y_train)\n",
    "model1.coef_, model1.intercept_"
   ]
  },
  {
   "cell_type": "markdown",
   "id": "16587890",
   "metadata": {},
   "source": [
    "Получившееся уравнение:\n",
    "$$\\text{Суммарная капитализация} = 9427 + 6686*\\sqrt[3]{\\text{WTI}} + 2284*\\sqrt[3]{\\text{Brent}} - 49*\\sqrt[3]{\\text{Природный газ}} - 34774*\\sqrt{\\text{Usd-Rub}} + 2389*\\text{Количество заболевших COVID-19, чел.} + 32603*\\sqrt{\\text{'Euro-Rub'}}$$\n"
   ]
  },
  {
   "cell_type": "code",
   "execution_count": 234,
   "id": "5fe38274",
   "metadata": {},
   "outputs": [
    {
     "name": "stdout",
     "output_type": "stream",
     "text": [
      "Test MAPE = 0.1273\n",
      "Train MAPE = 0.1215\n"
     ]
    }
   ],
   "source": [
    "from sklearn.linear_model import LinearRegression\n",
    "from sklearn.metrics import mean_absolute_percentage_error\n",
    "\n",
    "model = LinearRegression()\n",
    "model.fit(X_train, y_train)\n",
    "y_pred = model.predict(X_test)\n",
    "y_train_pred = model.predict(X_train)\n",
    "\n",
    "print(\"Test MAPE = %.4f\" % mean_absolute_percentage_error(y_test, y_pred))\n",
    "print(\"Train MAPE = %.4f\" % mean_absolute_percentage_error(y_train, y_train_pred))"
   ]
  },
  {
   "cell_type": "markdown",
   "id": "3cc14149",
   "metadata": {},
   "source": [
    "уменьшаем MAPE"
   ]
  },
  {
   "cell_type": "code",
   "execution_count": 235,
   "id": "5a275ecc",
   "metadata": {},
   "outputs": [],
   "source": [
    "from sklearn.preprocessing import PolynomialFeatures\n",
    "\n",
    "polinom_transform = PolynomialFeatures(2, include_bias=False)\n",
    "\n",
    "X_train_poly = polinom_transform.fit_transform(X_train)\n",
    "X_test_poly = polinom_transform.transform(X_test)"
   ]
  },
  {
   "cell_type": "code",
   "execution_count": 236,
   "id": "a4171182",
   "metadata": {},
   "outputs": [
    {
     "name": "stdout",
     "output_type": "stream",
     "text": [
      "Test MAPE = 0.0796\n",
      "Train MAPE = 0.0661\n"
     ]
    }
   ],
   "source": [
    "model = LinearRegression()\n",
    "\n",
    "model.fit(X_train_poly, y_train)\n",
    "y_pred = model.predict(X_test_poly)\n",
    "y_train_pred = model.predict(X_train_poly)\n",
    "\n",
    "print(\"Test MAPE = %.4f\" % mean_absolute_percentage_error(y_test, y_pred))\n",
    "print(\"Train MAPE = %.4f\" % mean_absolute_percentage_error(y_train, y_train_pred))"
   ]
  },
  {
   "cell_type": "code",
   "execution_count": 237,
   "id": "1b465363",
   "metadata": {},
   "outputs": [
    {
     "name": "stdout",
     "output_type": "stream",
     "text": [
      "MSE: 4146004.7680611718\n",
      "RMSE: 2036.1740515145486\n",
      "R-squared: 0.6949288757884229\n",
      "MAPE: 0.07962738154614644\n"
     ]
    }
   ],
   "source": [
    "mse = mean_squared_error(y_test, y_pred)\n",
    "print(\"MSE:\", mse)\n",
    "\n",
    "rmse = mean_squared_error(y_test, y_pred, squared=False)\n",
    "print(\"RMSE:\", rmse)\n",
    "\n",
    "r2 = r2_score(y_test, y_pred)\n",
    "print(\"R-squared:\", r2)\n",
    "\n",
    "mape = mean_absolute_percentage_error(y_test, y_pred)\n",
    "print(\"MAPE:\", mape)"
   ]
  },
  {
   "cell_type": "markdown",
   "id": "f2f2b0c0",
   "metadata": {},
   "source": [
    "Получаем, что при видоизмененных параметрах у нас получились следующие результаты: \n",
    "1. MSE упал 17375 ед\n",
    "2. RMSE упал на 4 ед\n",
    "3. R^2 возрос на 0.00135    \n",
    "4. MAPE возросло на 0.002\n",
    "\n",
    "Улучшилась модель по-сравнению с моделью №2 - при нормализации данных. Вследствие чего можно понять, что необходимые параметры (какие корни откуда изымаются) были подобраны успешно!"
   ]
  },
  {
   "cell_type": "markdown",
   "id": "59afd999",
   "metadata": {},
   "source": [
    "Наша итоговая модель линейной регрессии выглядит следующим образом:\n",
    "$$\\text{Суммарная капитализация} = 9427 + 6686\\sqrt[3]{\\text{WTI}} + 2284\\sqrt[3]{\\text{Brent}} - 49\\sqrt[3]{\\text{Природный газ}} - 34774\\sqrt{\\text{Usd-Rub}} + 2389\\text{Количество заболевших COVID-19, чел.} + 32603\\sqrt{\\text{'Euro-Rub'}}$$"
   ]
  },
  {
   "cell_type": "markdown",
   "id": "8a21032a",
   "metadata": {},
   "source": [
    "На основе этих данных можно сделать выводы о точности модели. Значение MSE и RMSE, хотя и высокие, но все же достаточно близки к фактическим значениям, что говорит о том, что модель довольно точна в прогнозировании. Коэффициент детерминации R-squared, близкий к 1, означает, что модель сравнительно хорошо описывает данные. Однако значение MAPE в 7,96% свидетельствует о том, что модель ошибается в среднем на 7,96%."
   ]
  },
  {
   "cell_type": "code",
   "execution_count": null,
   "id": "5629df5a",
   "metadata": {},
   "outputs": [],
   "source": []
  }
 ],
 "metadata": {
  "kernelspec": {
   "display_name": "Python 3 (ipykernel)",
   "language": "python",
   "name": "python3"
  },
  "language_info": {
   "codemirror_mode": {
    "name": "ipython",
    "version": 3
   },
   "file_extension": ".py",
   "mimetype": "text/x-python",
   "name": "python",
   "nbconvert_exporter": "python",
   "pygments_lexer": "ipython3",
   "version": "3.9.12"
  }
 },
 "nbformat": 4,
 "nbformat_minor": 5
}
